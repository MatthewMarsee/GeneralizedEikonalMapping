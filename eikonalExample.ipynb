{
 "cells": [
  {
   "cell_type": "code",
   "execution_count": 1,
   "id": "1b2bebe2",
   "metadata": {},
   "outputs": [],
   "source": [
    "import numpy as np\n",
    "import os\n",
    "import eikonal_funcs_drop as ekf\n",
    "\n",
    "#constants\n",
    "c = 3e8#m/s"
   ]
  },
  {
   "cell_type": "markdown",
   "id": "340e829d",
   "metadata": {},
   "source": [
    "## Generating a Map"
   ]
  },
  {
   "cell_type": "code",
   "execution_count": 2,
   "id": "4dda369a",
   "metadata": {},
   "outputs": [],
   "source": [
    "#PARAMETERS\n",
    "\n",
    "args_station = 11\n",
    "\n",
    "#icemodel_form = = 'SP5' #Summit Poly5\n",
    "icemodel_form = 'SE3'    #Summit Exponential3\n",
    "\n",
    "#should probably change this to a full path instead of a relative one\n",
    "savedMap_path = f'./timemaps/{icemodel_form}'\n",
    "\n",
    "\n",
    "\n",
    "\n",
    "#span of eikonal map in meters \n",
    "rlimits = [-5,45]\n",
    "zlimits = [-100,-35]\n",
    "\n",
    "#resolution of map in meters (motivated by uncertainty of phased array depths via GPS)\n",
    "stepSize_r = 0.1\n",
    "stepSize_z = 0.1\n",
    "\n",
    "\n",
    "#Best fit Parameters for Different Ice Models\n",
    "ice_pars_SP5 = [917, -93.82894598668852,1420.9803575781268,-9045.59209249893,13747.326534754588,-6674.720814507842]\n",
    "ice_pars_SE3 = [917.0, \n",
    "                -259.8665602846212, -0.045083474912333575, 19.889045647136108, #snow\n",
    "                -343.3010144218721, -0.020756618521118073, 18.662029514415227, #firn\n",
    "                -22.30487776484924, -0.03748587343015608, 111.02704353372049   #buble\n",
    "                ]\n",
    "\n",
    "\n",
    "#pulser/source location relative to the top of the power string\n",
    "r_source = 40\n",
    "z_source = -50"
   ]
  },
  {
   "cell_type": "code",
   "execution_count": 3,
   "id": "2dcc3f8e",
   "metadata": {},
   "outputs": [
    {
     "name": "stdout",
     "output_type": "stream",
     "text": [
      "This map took 0 seconds to generate.\n"
     ]
    },
    {
     "data": {
      "image/png": "[encoded data removed]",
      "text/plain": [
       "<Figure size 432x288 with 2 Axes>"
      ]
     },
     "metadata": {},
     "output_type": "display_data"
    },
    {
     "name": "stdout",
     "output_type": "stream",
     "text": [
      "Ch0 Arrvival time: 86.14830264083403 ns\n"
     ]
    }
   ],
   "source": [
    "#=====# generate dimensions of map\n",
    "depths = np.arange(zlimits[1], zlimits[0]-1, -stepSize_z)\n",
    "distances = np.arange(rlimits[0], rlimits[1]+1, stepSize_r)\n",
    "\n",
    "#=====# Obtain n(z), accounting for if your depth range extends above the surface\n",
    "n_ice_depthColumn = ekf.iceModelExp3(depths[depths<=0],ice_pars_SE3)\n",
    "#n_ice_depthColumn = ekf.iceModelPoly5(depths[depths<=0],ice_pars_SP5)\n",
    "\n",
    "n_air_depthColumn = np.ones(len(depths[depths>0]))\n",
    "n_depthColumn = np.concatenate((n_air_depthColumn,n_ice_depthColumn))\n",
    "\n",
    "\n",
    "\n",
    "#=====# Get v(z), correct required dimensionality, smear v(z) across distance range\n",
    "v_column = c/n_depthColumn\n",
    "Vcol_masked = np.array([np.array([y]) for y in v_column])\n",
    "Vmatrix_mask = np.array([Vcol_masked for x in range(len(distances))])\n",
    "\n",
    "#=====# Generate the Time Map #=======#\n",
    "#correct the velocity units, give map indices of source location \n",
    "Tmap = ekf.generateTimeMap(Vmatrix_mask/1e9,distances,depths,[ekf.Ind(distances,r_source),ekf.Ind(depths,z_source),0]) \n",
    "\n",
    "\n",
    "\n",
    "#Plot Time Map\n",
    "ekf.plotTmap(Tmap,distances,depths,11)\n",
    "\n",
    "\n",
    "#get time at different locations\n",
    "\n",
    "t_ch0 = ekf.getTime(Tmap,distances,depths,[ekf.Ind(distances,0),ekf.Ind(depths,-96)]) #antenna on the power string [r,z] = [0,-96]\n",
    "print(f'Ch0 Arrvival time: {t_ch0} ns')\n",
    "\n",
    "\n"
   ]
  },
  {
   "cell_type": "markdown",
   "id": "32a1d253",
   "metadata": {},
   "source": [
    "<font color='blue'>The maps at this resolution (dr = 0.1m, dz = 0.1m) generate very quickly, but may slow down significantly if you set (dr = 0.01m, dz = 0.01m). \n",
    "<br>You may have to choose only a single dimension to have higher resolution to compromise.</font>"
   ]
  },
  {
   "cell_type": "markdown",
   "id": "2fdbdadd",
   "metadata": {},
   "source": [
    "## Interpolating Time between Pre-Generated Maps of Different Depths\n",
    "\n",
    "If you have generated time maps for two different source depths (e.g. -70 and -65) and want to find an arrival time for a pulser at -67"
   ]
  },
  {
   "cell_type": "code",
   "execution_count": 9,
   "id": "71d8e9da",
   "metadata": {},
   "outputs": [
    {
     "data": {
      "text/plain": [
       "'\\n#randomly chosen distance r=25m\\nTmap1 = ekf.generateTimeMap(Vmatrix_mask/1e9,distances,depths,[ekf.Ind(distances,pulsing_position[0]),ekf.Ind(depths,-70),0])\\nekf.saveTMap(Tmap1,-70,distances,depths,args_station,savedMap_path)\\n\\nTmap2 = ekf.generateTimeMap(Vmatrix_mask/1e9,distances,depths,[ekf.Ind(distances,pulsing_position[0]),ekf.Ind(depths,-65),0])\\nekf.saveTMap(Tmap2,-65,distances,depths,args_station,savedMap_path)\\n'"
      ]
     },
     "execution_count": 9,
     "metadata": {},
     "output_type": "execute_result"
    }
   ],
   "source": [
    "#Generate and Save maps\n",
    "pulsing_position = [25,-67]\n",
    "'''\n",
    "#randomly chosen distance r=25m\n",
    "Tmap1 = ekf.generateTimeMap(Vmatrix_mask/1e9,distances,depths,[ekf.Ind(distances,pulsing_position[0]),ekf.Ind(depths,-70),0])\n",
    "ekf.saveTMap(Tmap1,-70,distances,depths,args_station,savedMap_path)\n",
    "\n",
    "Tmap2 = ekf.generateTimeMap(Vmatrix_mask/1e9,distances,depths,[ekf.Ind(distances,pulsing_position[0]),ekf.Ind(depths,-65),0])\n",
    "ekf.saveTMap(Tmap2,-65,distances,depths,args_station,savedMap_path)\n",
    "'''"
   ]
  },
  {
   "cell_type": "code",
   "execution_count": null,
   "id": "bbcff724",
   "metadata": {},
   "outputs": [
    {
     "name": "stdout",
     "output_type": "stream",
     "text": [
      "total 0\n",
      "(2, 660, 510)\n"
     ]
    }
   ],
   "source": [
    "#Load two time maps\n",
    "#os.system('ls -lhtr '+savedMap_path)\n",
    "\n",
    "mapList = ekf.loadTMaps(args_station, sourceDepth = pulsing_position[-1], sourceDepthStep=5, map_dirpath=savedMap_path)#maps are 5m apart in source depth \n",
    "#will load a single map if map exists (e.g. for depth of -65m), or a list of two maps on either side of desired depth (e.g. maps for -70 & -65 for a depth of -67)\n",
    "print(mapList.shape)"
   ]
  },
  {
   "cell_type": "code",
   "execution_count": 11,
   "id": "949b0c2d",
   "metadata": {},
   "outputs": [
    {
     "name": "stdout",
     "output_type": "stream",
     "text": [
      "There is no pre-generated map for -67 m, instead will interpolate between [-70.0, -65.0] m\n",
      "Interpolated time at [0, -96] for a pulser at [25, -67] is: 219.76122126000456 ns\n"
     ]
    }
   ],
   "source": [
    "# interpolate between 2 different time maps, the interpolation function will be the arrival time at a target point, as a function of the pulser depth\n",
    "target_position = [0,-96]\n",
    "interpolated_time = ekf.get_InterpolatedTime(sourceDepth=-67,  sourceDepthStep=5,  time_Maps=mapList,  rdomain=distances,  zdomain=depths,  position=target_position)\n",
    "print(f'Interpolated time at {target_position} for a pulser at {pulsing_position} is: {interpolated_time} ns')"
   ]
  },
  {
   "cell_type": "code",
   "execution_count": null,
   "id": "de4b409f",
   "metadata": {},
   "outputs": [],
   "source": [
    "#Compare this time with a third map, generated with a source at [25,-67] and find the exact time with ekf.getTime(,,pulsing position)\n"
   ]
  },
  {
   "cell_type": "code",
   "execution_count": null,
   "id": "d193e808",
   "metadata": {},
   "outputs": [],
   "source": []
  },
  {
   "cell_type": "code",
   "execution_count": null,
   "id": "3be48439",
   "metadata": {},
   "outputs": [],
   "source": []
  },
  {
   "cell_type": "code",
   "execution_count": null,
   "id": "8bec25e5",
   "metadata": {},
   "outputs": [],
   "source": []
  },
  {
   "cell_type": "code",
   "execution_count": null,
   "id": "5f750a0b",
   "metadata": {},
   "outputs": [],
   "source": []
  }
 ],
 "metadata": {
  "kernelspec": {
   "display_name": "Python 3",
   "language": "python",
   "name": "python3"
  },
  "language_info": {
   "codemirror_mode": {
    "name": "ipython",
    "version": 3
   },
   "file_extension": ".py",
   "mimetype": "text/x-python",
   "name": "python",
   "nbconvert_exporter": "python",
   "pygments_lexer": "ipython3",
   "version": "3.10.12"
  }
 },
 "nbformat": 4,
 "nbformat_minor": 5
}
